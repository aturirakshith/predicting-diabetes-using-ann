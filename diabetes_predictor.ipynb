{
  "nbformat": 4,
  "nbformat_minor": 0,
  "metadata": {
    "colab": {
      "provenance": [],
      "toc_visible": true
    },
    "kernelspec": {
      "name": "python3",
      "display_name": "Python 3"
    },
    "language_info": {
      "name": "python"
    }
  },
  "cells": [
    {
      "cell_type": "markdown",
      "source": [
        "###Load the dataset:"
      ],
      "metadata": {
        "id": "SJc_mjpXlzdk"
      }
    },
    {
      "cell_type": "code",
      "execution_count": 1,
      "metadata": {
        "id": "rqqDLyK11zA9"
      },
      "outputs": [],
      "source": [
        "import pandas as pd\n",
        "\n",
        "df = pd.read_csv(\"diabetes.csv\")\n"
      ]
    },
    {
      "cell_type": "markdown",
      "source": [
        "###Preprocessing:\n",
        "\n",
        "The dataset contains missing values, which we need to handle before we can use it for training our ANN. We can replace missing values with the mean of the corresponding feature"
      ],
      "metadata": {
        "id": "j2G4cDaHl_YU"
      }
    },
    {
      "cell_type": "code",
      "source": [
        "df = df.fillna(df.mean())\n"
      ],
      "metadata": {
        "id": "BujiF3svk2SA"
      },
      "execution_count": 2,
      "outputs": []
    },
    {
      "cell_type": "markdown",
      "source": [
        "Next, we need to scale the features to ensure that they are in the same range. We can use the StandardScaler from scikit-learn for this:"
      ],
      "metadata": {
        "id": "182xoIgvmQVM"
      }
    },
    {
      "cell_type": "code",
      "source": [
        "from sklearn.preprocessing import StandardScaler\n",
        "\n",
        "scaler = StandardScaler()\n",
        "X = df.drop(\"Outcome\", axis=1) # Get all features except Outcome\n",
        "y = df[\"Outcome\"] # Get the target variable\n",
        "\n",
        "# Scale the features\n",
        "X_scaled = scaler.fit_transform(X)\n"
      ],
      "metadata": {
        "id": "-HM58qi-lBpC"
      },
      "execution_count": 3,
      "outputs": []
    },
    {
      "cell_type": "markdown",
      "source": [
        "Finally, we need to encode the target variable using one-hot encoding:"
      ],
      "metadata": {
        "id": "PJB_GqU2mWd5"
      }
    },
    {
      "cell_type": "code",
      "source": [
        "from keras.utils import to_categorical\n",
        "\n",
        "y_encoded = to_categorical(y)\n"
      ],
      "metadata": {
        "id": "HmfmAF7FlGer"
      },
      "execution_count": 4,
      "outputs": []
    },
    {
      "cell_type": "markdown",
      "source": [
        "###Model Training:\n",
        "\n",
        "\n",
        "Next, we need to split the preprocessed data into training and testing sets:"
      ],
      "metadata": {
        "id": "k9YfjIOOmZpz"
      }
    },
    {
      "cell_type": "code",
      "source": [
        "from sklearn.model_selection import train_test_split\n",
        "\n",
        "X_train, X_test, y_train, y_test = train_test_split(X_scaled, y_encoded, test_size=0.2, random_state=42)\n"
      ],
      "metadata": {
        "id": "RkAw8WcUlIrD"
      },
      "execution_count": 5,
      "outputs": []
    },
    {
      "cell_type": "markdown",
      "source": [
        "Now, we can build and train an ANN model using Keras:"
      ],
      "metadata": {
        "id": "hw4r6k46mek5"
      }
    },
    {
      "cell_type": "code",
      "source": [
        "from keras.models import Sequential\n",
        "from keras.layers import Dense\n",
        "\n",
        "model = Sequential()\n",
        "model.add(Dense(12, input_dim=8, activation='relu'))\n",
        "model.add(Dense(8, activation='relu'))\n",
        "model.add(Dense(2, activation='softmax'))\n",
        "model.summary()\n"
      ],
      "metadata": {
        "colab": {
          "base_uri": "https://localhost:8080/"
        },
        "id": "4XeyTWTflNlX",
        "outputId": "89ebca62-9939-4447-f54a-f95723481082"
      },
      "execution_count": 9,
      "outputs": [
        {
          "output_type": "stream",
          "name": "stdout",
          "text": [
            "Model: \"sequential_1\"\n",
            "_________________________________________________________________\n",
            " Layer (type)                Output Shape              Param #   \n",
            "=================================================================\n",
            " dense_3 (Dense)             (None, 12)                108       \n",
            "                                                                 \n",
            " dense_4 (Dense)             (None, 8)                 104       \n",
            "                                                                 \n",
            " dense_5 (Dense)             (None, 2)                 18        \n",
            "                                                                 \n",
            "=================================================================\n",
            "Total params: 230\n",
            "Trainable params: 230\n",
            "Non-trainable params: 0\n",
            "_________________________________________________________________\n"
          ]
        }
      ]
    },
    {
      "cell_type": "code",
      "source": [
        "model.compile(loss='categorical_crossentropy', optimizer='adam', metrics=['accuracy'])\n",
        "model.fit(X_train, y_train, epochs=150, batch_size=10)\n"
      ],
      "metadata": {
        "colab": {
          "base_uri": "https://localhost:8080/"
        },
        "id": "4fdGQMWzmx1_",
        "outputId": "a6f9869e-3a78-43a5-9f90-6b3bfac35919"
      },
      "execution_count": 10,
      "outputs": [
        {
          "output_type": "stream",
          "name": "stdout",
          "text": [
            "Epoch 1/150\n",
            "62/62 [==============================] - 1s 4ms/step - loss: 0.6727 - accuracy: 0.6515\n",
            "Epoch 2/150\n",
            "62/62 [==============================] - 0s 4ms/step - loss: 0.6070 - accuracy: 0.6564\n",
            "Epoch 3/150\n",
            "62/62 [==============================] - 0s 4ms/step - loss: 0.5709 - accuracy: 0.6661\n",
            "Epoch 4/150\n",
            "62/62 [==============================] - 0s 4ms/step - loss: 0.5445 - accuracy: 0.6889\n",
            "Epoch 5/150\n",
            "62/62 [==============================] - 0s 4ms/step - loss: 0.5272 - accuracy: 0.7068\n",
            "Epoch 6/150\n",
            "62/62 [==============================] - 0s 4ms/step - loss: 0.5124 - accuracy: 0.7362\n",
            "Epoch 7/150\n",
            "62/62 [==============================] - 0s 3ms/step - loss: 0.5003 - accuracy: 0.7573\n",
            "Epoch 8/150\n",
            "62/62 [==============================] - 0s 2ms/step - loss: 0.4903 - accuracy: 0.7769\n",
            "Epoch 9/150\n",
            "62/62 [==============================] - 0s 3ms/step - loss: 0.4823 - accuracy: 0.7883\n",
            "Epoch 10/150\n",
            "62/62 [==============================] - 0s 3ms/step - loss: 0.4751 - accuracy: 0.7899\n",
            "Epoch 11/150\n",
            "62/62 [==============================] - 0s 2ms/step - loss: 0.4687 - accuracy: 0.7899\n",
            "Epoch 12/150\n",
            "62/62 [==============================] - 0s 3ms/step - loss: 0.4639 - accuracy: 0.7932\n",
            "Epoch 13/150\n",
            "62/62 [==============================] - 0s 2ms/step - loss: 0.4592 - accuracy: 0.7964\n",
            "Epoch 14/150\n",
            "62/62 [==============================] - 0s 3ms/step - loss: 0.4555 - accuracy: 0.8046\n",
            "Epoch 15/150\n",
            "62/62 [==============================] - 0s 3ms/step - loss: 0.4515 - accuracy: 0.7932\n",
            "Epoch 16/150\n",
            "62/62 [==============================] - 0s 2ms/step - loss: 0.4471 - accuracy: 0.8013\n",
            "Epoch 17/150\n",
            "62/62 [==============================] - 0s 2ms/step - loss: 0.4443 - accuracy: 0.8029\n",
            "Epoch 18/150\n",
            "62/62 [==============================] - 0s 2ms/step - loss: 0.4417 - accuracy: 0.8111\n",
            "Epoch 19/150\n",
            "62/62 [==============================] - 0s 3ms/step - loss: 0.4397 - accuracy: 0.8062\n",
            "Epoch 20/150\n",
            "62/62 [==============================] - 0s 2ms/step - loss: 0.4370 - accuracy: 0.8111\n",
            "Epoch 21/150\n",
            "62/62 [==============================] - 0s 2ms/step - loss: 0.4350 - accuracy: 0.8127\n",
            "Epoch 22/150\n",
            "62/62 [==============================] - 0s 2ms/step - loss: 0.4343 - accuracy: 0.8062\n",
            "Epoch 23/150\n",
            "62/62 [==============================] - 0s 2ms/step - loss: 0.4314 - accuracy: 0.8111\n",
            "Epoch 24/150\n",
            "62/62 [==============================] - 0s 2ms/step - loss: 0.4295 - accuracy: 0.8143\n",
            "Epoch 25/150\n",
            "62/62 [==============================] - 0s 4ms/step - loss: 0.4279 - accuracy: 0.8078\n",
            "Epoch 26/150\n",
            "62/62 [==============================] - 0s 5ms/step - loss: 0.4258 - accuracy: 0.8127\n",
            "Epoch 27/150\n",
            "62/62 [==============================] - 0s 5ms/step - loss: 0.4250 - accuracy: 0.8094\n",
            "Epoch 28/150\n",
            "62/62 [==============================] - 0s 3ms/step - loss: 0.4236 - accuracy: 0.8143\n",
            "Epoch 29/150\n",
            "62/62 [==============================] - 0s 4ms/step - loss: 0.4217 - accuracy: 0.8111\n",
            "Epoch 30/150\n",
            "62/62 [==============================] - 0s 6ms/step - loss: 0.4198 - accuracy: 0.8111\n",
            "Epoch 31/150\n",
            "62/62 [==============================] - 0s 2ms/step - loss: 0.4182 - accuracy: 0.8127\n",
            "Epoch 32/150\n",
            "62/62 [==============================] - 0s 2ms/step - loss: 0.4173 - accuracy: 0.8111\n",
            "Epoch 33/150\n",
            "62/62 [==============================] - 0s 3ms/step - loss: 0.4150 - accuracy: 0.8111\n",
            "Epoch 34/150\n",
            "62/62 [==============================] - 0s 4ms/step - loss: 0.4145 - accuracy: 0.8160\n",
            "Epoch 35/150\n",
            "62/62 [==============================] - 0s 6ms/step - loss: 0.4125 - accuracy: 0.8111\n",
            "Epoch 36/150\n",
            "62/62 [==============================] - 0s 4ms/step - loss: 0.4110 - accuracy: 0.8160\n",
            "Epoch 37/150\n",
            "62/62 [==============================] - 0s 4ms/step - loss: 0.4095 - accuracy: 0.8160\n",
            "Epoch 38/150\n",
            "62/62 [==============================] - 0s 3ms/step - loss: 0.4077 - accuracy: 0.8160\n",
            "Epoch 39/150\n",
            "62/62 [==============================] - 0s 3ms/step - loss: 0.4076 - accuracy: 0.8176\n",
            "Epoch 40/150\n",
            "62/62 [==============================] - 0s 3ms/step - loss: 0.4078 - accuracy: 0.8160\n",
            "Epoch 41/150\n",
            "62/62 [==============================] - 0s 3ms/step - loss: 0.4047 - accuracy: 0.8160\n",
            "Epoch 42/150\n",
            "62/62 [==============================] - 0s 3ms/step - loss: 0.4051 - accuracy: 0.8192\n",
            "Epoch 43/150\n",
            "62/62 [==============================] - 0s 3ms/step - loss: 0.4037 - accuracy: 0.8208\n",
            "Epoch 44/150\n",
            "62/62 [==============================] - 0s 3ms/step - loss: 0.4027 - accuracy: 0.8208\n",
            "Epoch 45/150\n",
            "62/62 [==============================] - 0s 3ms/step - loss: 0.4011 - accuracy: 0.8192\n",
            "Epoch 46/150\n",
            "62/62 [==============================] - 0s 3ms/step - loss: 0.4002 - accuracy: 0.8225\n",
            "Epoch 47/150\n",
            "62/62 [==============================] - 0s 2ms/step - loss: 0.4000 - accuracy: 0.8208\n",
            "Epoch 48/150\n",
            "62/62 [==============================] - 0s 2ms/step - loss: 0.3998 - accuracy: 0.8225\n",
            "Epoch 49/150\n",
            "62/62 [==============================] - 0s 3ms/step - loss: 0.3974 - accuracy: 0.8225\n",
            "Epoch 50/150\n",
            "62/62 [==============================] - 0s 3ms/step - loss: 0.3959 - accuracy: 0.8160\n",
            "Epoch 51/150\n",
            "62/62 [==============================] - 0s 2ms/step - loss: 0.3959 - accuracy: 0.8241\n",
            "Epoch 52/150\n",
            "62/62 [==============================] - 0s 3ms/step - loss: 0.3950 - accuracy: 0.8192\n",
            "Epoch 53/150\n",
            "62/62 [==============================] - 0s 3ms/step - loss: 0.3938 - accuracy: 0.8241\n",
            "Epoch 54/150\n",
            "62/62 [==============================] - 0s 2ms/step - loss: 0.3912 - accuracy: 0.8225\n",
            "Epoch 55/150\n",
            "62/62 [==============================] - 0s 2ms/step - loss: 0.3926 - accuracy: 0.8290\n",
            "Epoch 56/150\n",
            "62/62 [==============================] - 0s 3ms/step - loss: 0.3907 - accuracy: 0.8241\n",
            "Epoch 57/150\n",
            "62/62 [==============================] - 0s 3ms/step - loss: 0.3894 - accuracy: 0.8208\n",
            "Epoch 58/150\n",
            "62/62 [==============================] - 0s 3ms/step - loss: 0.3886 - accuracy: 0.8241\n",
            "Epoch 59/150\n",
            "62/62 [==============================] - 0s 5ms/step - loss: 0.3867 - accuracy: 0.8225\n",
            "Epoch 60/150\n",
            "62/62 [==============================] - 0s 5ms/step - loss: 0.3864 - accuracy: 0.8208\n",
            "Epoch 61/150\n",
            "62/62 [==============================] - 0s 4ms/step - loss: 0.3864 - accuracy: 0.8225\n",
            "Epoch 62/150\n",
            "62/62 [==============================] - 0s 4ms/step - loss: 0.3857 - accuracy: 0.8208\n",
            "Epoch 63/150\n",
            "62/62 [==============================] - 0s 4ms/step - loss: 0.3846 - accuracy: 0.8225\n",
            "Epoch 64/150\n",
            "62/62 [==============================] - 0s 4ms/step - loss: 0.3833 - accuracy: 0.8257\n",
            "Epoch 65/150\n",
            "62/62 [==============================] - 0s 4ms/step - loss: 0.3833 - accuracy: 0.8241\n",
            "Epoch 66/150\n",
            "62/62 [==============================] - 0s 4ms/step - loss: 0.3815 - accuracy: 0.8257\n",
            "Epoch 67/150\n",
            "62/62 [==============================] - 0s 4ms/step - loss: 0.3826 - accuracy: 0.8241\n",
            "Epoch 68/150\n",
            "62/62 [==============================] - 0s 4ms/step - loss: 0.3794 - accuracy: 0.8290\n",
            "Epoch 69/150\n",
            "62/62 [==============================] - 0s 4ms/step - loss: 0.3788 - accuracy: 0.8274\n",
            "Epoch 70/150\n",
            "62/62 [==============================] - 0s 3ms/step - loss: 0.3774 - accuracy: 0.8306\n",
            "Epoch 71/150\n",
            "62/62 [==============================] - 0s 2ms/step - loss: 0.3760 - accuracy: 0.8306\n",
            "Epoch 72/150\n",
            "62/62 [==============================] - 0s 2ms/step - loss: 0.3763 - accuracy: 0.8241\n",
            "Epoch 73/150\n",
            "62/62 [==============================] - 0s 3ms/step - loss: 0.3760 - accuracy: 0.8257\n",
            "Epoch 74/150\n",
            "62/62 [==============================] - 0s 3ms/step - loss: 0.3741 - accuracy: 0.8355\n",
            "Epoch 75/150\n",
            "62/62 [==============================] - 0s 3ms/step - loss: 0.3737 - accuracy: 0.8225\n",
            "Epoch 76/150\n",
            "62/62 [==============================] - 0s 3ms/step - loss: 0.3744 - accuracy: 0.8339\n",
            "Epoch 77/150\n",
            "62/62 [==============================] - 0s 2ms/step - loss: 0.3728 - accuracy: 0.8306\n",
            "Epoch 78/150\n",
            "62/62 [==============================] - 0s 3ms/step - loss: 0.3706 - accuracy: 0.8339\n",
            "Epoch 79/150\n",
            "62/62 [==============================] - 0s 2ms/step - loss: 0.3694 - accuracy: 0.8355\n",
            "Epoch 80/150\n",
            "62/62 [==============================] - 0s 3ms/step - loss: 0.3702 - accuracy: 0.8371\n",
            "Epoch 81/150\n",
            "62/62 [==============================] - 0s 2ms/step - loss: 0.3681 - accuracy: 0.8322\n",
            "Epoch 82/150\n",
            "62/62 [==============================] - 0s 3ms/step - loss: 0.3668 - accuracy: 0.8371\n",
            "Epoch 83/150\n",
            "62/62 [==============================] - 0s 3ms/step - loss: 0.3679 - accuracy: 0.8322\n",
            "Epoch 84/150\n",
            "62/62 [==============================] - 0s 3ms/step - loss: 0.3649 - accuracy: 0.8404\n",
            "Epoch 85/150\n",
            "62/62 [==============================] - 0s 3ms/step - loss: 0.3640 - accuracy: 0.8420\n",
            "Epoch 86/150\n",
            "62/62 [==============================] - 0s 3ms/step - loss: 0.3634 - accuracy: 0.8420\n",
            "Epoch 87/150\n",
            "62/62 [==============================] - 0s 3ms/step - loss: 0.3631 - accuracy: 0.8469\n",
            "Epoch 88/150\n",
            "62/62 [==============================] - 0s 3ms/step - loss: 0.3610 - accuracy: 0.8420\n",
            "Epoch 89/150\n",
            "62/62 [==============================] - 0s 3ms/step - loss: 0.3613 - accuracy: 0.8371\n",
            "Epoch 90/150\n",
            "62/62 [==============================] - 0s 3ms/step - loss: 0.3582 - accuracy: 0.8453\n",
            "Epoch 91/150\n",
            "62/62 [==============================] - 0s 3ms/step - loss: 0.3591 - accuracy: 0.8485\n",
            "Epoch 92/150\n",
            "62/62 [==============================] - 0s 3ms/step - loss: 0.3593 - accuracy: 0.8388\n",
            "Epoch 93/150\n",
            "62/62 [==============================] - 0s 2ms/step - loss: 0.3580 - accuracy: 0.8404\n",
            "Epoch 94/150\n",
            "62/62 [==============================] - 0s 3ms/step - loss: 0.3560 - accuracy: 0.8469\n",
            "Epoch 95/150\n",
            "62/62 [==============================] - 0s 3ms/step - loss: 0.3559 - accuracy: 0.8420\n",
            "Epoch 96/150\n",
            "62/62 [==============================] - 0s 2ms/step - loss: 0.3563 - accuracy: 0.8485\n",
            "Epoch 97/150\n",
            "62/62 [==============================] - 0s 3ms/step - loss: 0.3536 - accuracy: 0.8404\n",
            "Epoch 98/150\n",
            "62/62 [==============================] - 0s 3ms/step - loss: 0.3538 - accuracy: 0.8485\n",
            "Epoch 99/150\n",
            "62/62 [==============================] - 0s 3ms/step - loss: 0.3515 - accuracy: 0.8453\n",
            "Epoch 100/150\n",
            "62/62 [==============================] - 0s 3ms/step - loss: 0.3537 - accuracy: 0.8436\n",
            "Epoch 101/150\n",
            "62/62 [==============================] - 0s 2ms/step - loss: 0.3520 - accuracy: 0.8502\n",
            "Epoch 102/150\n",
            "62/62 [==============================] - 0s 3ms/step - loss: 0.3495 - accuracy: 0.8518\n",
            "Epoch 103/150\n",
            "62/62 [==============================] - 0s 3ms/step - loss: 0.3496 - accuracy: 0.8502\n",
            "Epoch 104/150\n",
            "62/62 [==============================] - 0s 3ms/step - loss: 0.3481 - accuracy: 0.8485\n",
            "Epoch 105/150\n",
            "62/62 [==============================] - 0s 3ms/step - loss: 0.3473 - accuracy: 0.8583\n",
            "Epoch 106/150\n",
            "62/62 [==============================] - 0s 2ms/step - loss: 0.3464 - accuracy: 0.8534\n",
            "Epoch 107/150\n",
            "62/62 [==============================] - 0s 2ms/step - loss: 0.3452 - accuracy: 0.8550\n",
            "Epoch 108/150\n",
            "62/62 [==============================] - 0s 2ms/step - loss: 0.3441 - accuracy: 0.8453\n",
            "Epoch 109/150\n",
            "62/62 [==============================] - 0s 3ms/step - loss: 0.3431 - accuracy: 0.8583\n",
            "Epoch 110/150\n",
            "62/62 [==============================] - 0s 2ms/step - loss: 0.3425 - accuracy: 0.8583\n",
            "Epoch 111/150\n",
            "62/62 [==============================] - 0s 2ms/step - loss: 0.3416 - accuracy: 0.8567\n",
            "Epoch 112/150\n",
            "62/62 [==============================] - 0s 2ms/step - loss: 0.3406 - accuracy: 0.8550\n",
            "Epoch 113/150\n",
            "62/62 [==============================] - 0s 2ms/step - loss: 0.3405 - accuracy: 0.8550\n",
            "Epoch 114/150\n",
            "62/62 [==============================] - 0s 2ms/step - loss: 0.3401 - accuracy: 0.8583\n",
            "Epoch 115/150\n",
            "62/62 [==============================] - 0s 2ms/step - loss: 0.3397 - accuracy: 0.8567\n",
            "Epoch 116/150\n",
            "62/62 [==============================] - 0s 2ms/step - loss: 0.3409 - accuracy: 0.8567\n",
            "Epoch 117/150\n",
            "62/62 [==============================] - 0s 2ms/step - loss: 0.3395 - accuracy: 0.8583\n",
            "Epoch 118/150\n",
            "62/62 [==============================] - 0s 2ms/step - loss: 0.3380 - accuracy: 0.8534\n",
            "Epoch 119/150\n",
            "62/62 [==============================] - 0s 2ms/step - loss: 0.3391 - accuracy: 0.8550\n",
            "Epoch 120/150\n",
            "62/62 [==============================] - 0s 2ms/step - loss: 0.3376 - accuracy: 0.8550\n",
            "Epoch 121/150\n",
            "62/62 [==============================] - 0s 2ms/step - loss: 0.3366 - accuracy: 0.8567\n",
            "Epoch 122/150\n",
            "62/62 [==============================] - 0s 3ms/step - loss: 0.3348 - accuracy: 0.8632\n",
            "Epoch 123/150\n",
            "62/62 [==============================] - 0s 2ms/step - loss: 0.3340 - accuracy: 0.8550\n",
            "Epoch 124/150\n",
            "62/62 [==============================] - 0s 2ms/step - loss: 0.3341 - accuracy: 0.8583\n",
            "Epoch 125/150\n",
            "62/62 [==============================] - 0s 2ms/step - loss: 0.3337 - accuracy: 0.8632\n",
            "Epoch 126/150\n",
            "62/62 [==============================] - 0s 2ms/step - loss: 0.3326 - accuracy: 0.8583\n",
            "Epoch 127/150\n",
            "62/62 [==============================] - 0s 2ms/step - loss: 0.3334 - accuracy: 0.8534\n",
            "Epoch 128/150\n",
            "62/62 [==============================] - 0s 2ms/step - loss: 0.3309 - accuracy: 0.8681\n",
            "Epoch 129/150\n",
            "62/62 [==============================] - 0s 2ms/step - loss: 0.3315 - accuracy: 0.8648\n",
            "Epoch 130/150\n",
            "62/62 [==============================] - 0s 3ms/step - loss: 0.3308 - accuracy: 0.8664\n",
            "Epoch 131/150\n",
            "62/62 [==============================] - 0s 3ms/step - loss: 0.3300 - accuracy: 0.8616\n",
            "Epoch 132/150\n",
            "62/62 [==============================] - 0s 3ms/step - loss: 0.3299 - accuracy: 0.8567\n",
            "Epoch 133/150\n",
            "62/62 [==============================] - 0s 3ms/step - loss: 0.3285 - accuracy: 0.8616\n",
            "Epoch 134/150\n",
            "62/62 [==============================] - 0s 3ms/step - loss: 0.3287 - accuracy: 0.8583\n",
            "Epoch 135/150\n",
            "62/62 [==============================] - 0s 3ms/step - loss: 0.3280 - accuracy: 0.8632\n",
            "Epoch 136/150\n",
            "62/62 [==============================] - 0s 3ms/step - loss: 0.3288 - accuracy: 0.8616\n",
            "Epoch 137/150\n",
            "62/62 [==============================] - 0s 3ms/step - loss: 0.3268 - accuracy: 0.8632\n",
            "Epoch 138/150\n",
            "62/62 [==============================] - 0s 3ms/step - loss: 0.3260 - accuracy: 0.8632\n",
            "Epoch 139/150\n",
            "62/62 [==============================] - 0s 4ms/step - loss: 0.3255 - accuracy: 0.8616\n",
            "Epoch 140/150\n",
            "62/62 [==============================] - 0s 4ms/step - loss: 0.3254 - accuracy: 0.8616\n",
            "Epoch 141/150\n",
            "62/62 [==============================] - 0s 4ms/step - loss: 0.3233 - accuracy: 0.8681\n",
            "Epoch 142/150\n",
            "62/62 [==============================] - 0s 3ms/step - loss: 0.3233 - accuracy: 0.8616\n",
            "Epoch 143/150\n",
            "62/62 [==============================] - 0s 3ms/step - loss: 0.3230 - accuracy: 0.8583\n",
            "Epoch 144/150\n",
            "62/62 [==============================] - 0s 2ms/step - loss: 0.3218 - accuracy: 0.8681\n",
            "Epoch 145/150\n",
            "62/62 [==============================] - 0s 2ms/step - loss: 0.3229 - accuracy: 0.8681\n",
            "Epoch 146/150\n",
            "62/62 [==============================] - 0s 2ms/step - loss: 0.3215 - accuracy: 0.8697\n",
            "Epoch 147/150\n",
            "62/62 [==============================] - 0s 2ms/step - loss: 0.3205 - accuracy: 0.8681\n",
            "Epoch 148/150\n",
            "62/62 [==============================] - 0s 3ms/step - loss: 0.3220 - accuracy: 0.8632\n",
            "Epoch 149/150\n",
            "62/62 [==============================] - 0s 2ms/step - loss: 0.3201 - accuracy: 0.8681\n",
            "Epoch 150/150\n",
            "62/62 [==============================] - 0s 2ms/step - loss: 0.3210 - accuracy: 0.8616\n"
          ]
        },
        {
          "output_type": "execute_result",
          "data": {
            "text/plain": [
              "<keras.callbacks.History at 0x7faa7002e460>"
            ]
          },
          "metadata": {},
          "execution_count": 10
        }
      ]
    },
    {
      "cell_type": "markdown",
      "source": [
        "###Model Evaluation:"
      ],
      "metadata": {
        "id": "cQ_YSamulqEB"
      }
    },
    {
      "cell_type": "code",
      "source": [
        "scores = model.evaluate(X_test, y_test)\n",
        "print(\"\\n%s: %.2f%%\" % (model.metrics_names[1], scores[1]))\n"
      ],
      "metadata": {
        "colab": {
          "base_uri": "https://localhost:8080/"
        },
        "id": "NWf0AHvtlVwz",
        "outputId": "492bf10b-7f2a-49d9-ba0e-fc283fb81a51"
      },
      "execution_count": 8,
      "outputs": [
        {
          "output_type": "stream",
          "name": "stdout",
          "text": [
            "5/5 [==============================] - 0s 3ms/step - loss: 0.6129 - accuracy: 0.7532\n",
            "\n",
            "accuracy: 0.75%\n"
          ]
        }
      ]
    }
  ]
}